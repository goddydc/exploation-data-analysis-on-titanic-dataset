{
 "cells": [
  {
   "cell_type": "code",
   "execution_count": 1,
   "id": "101d4b3d",
   "metadata": {},
   "outputs": [
    {
     "name": "stdout",
     "output_type": "stream",
     "text": [
      "i love python\n"
     ]
    }
   ],
   "source": [
    "print(\"i love python\")"
   ]
  },
  {
   "cell_type": "code",
   "execution_count": 2,
   "id": "bd30effd",
   "metadata": {},
   "outputs": [
    {
     "name": "stdout",
     "output_type": "stream",
     "text": [
      "youcee no get level jor\n"
     ]
    }
   ],
   "source": [
    "print(\"youcee no get level jor\")"
   ]
  },
  {
   "cell_type": "code",
   "execution_count": null,
   "id": "015816d4",
   "metadata": {},
   "outputs": [],
   "source": []
  }
 ],
 "metadata": {
  "kernelspec": {
   "display_name": "Python 3 (ipykernel)",
   "language": "python",
   "name": "python3"
  },
  "language_info": {
   "codemirror_mode": {
    "name": "ipython",
    "version": 3
   },
   "file_extension": ".py",
   "mimetype": "text/x-python",
   "name": "python",
   "nbconvert_exporter": "python",
   "pygments_lexer": "ipython3",
   "version": "3.9.13"
  }
 },
 "nbformat": 4,
 "nbformat_minor": 5
}
